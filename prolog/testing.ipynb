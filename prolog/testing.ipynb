{
 "cells": [
  {
   "cell_type": "code",
   "execution_count": 1,
   "id": "f8c8aad5",
   "metadata": {},
   "outputs": [],
   "source": [
    "from minimal_rules import extract_minimal_rules\n",
    "import numpy as np"
   ]
  },
  {
   "cell_type": "code",
   "execution_count": 2,
   "id": "49703170",
   "metadata": {},
   "outputs": [],
   "source": [
    "rule_set = extract_minimal_rules(\"data.csv\", decision_column=\"diagnosis_class\")"
   ]
  },
  {
   "cell_type": "code",
   "execution_count": 3,
   "id": "9fcdddae",
   "metadata": {},
   "outputs": [
    {
     "name": "stdout",
     "output_type": "stream",
     "text": [
      "1. IF drowsiness = False ∧ attention_impairment = True THEN diagnosis_class = '0'\n",
      "2. IF incoordination = True ∧ attention_impairment = True THEN diagnosis_class = '0'\n",
      "3. IF nystagmus = True ∧ attention_impairment = True THEN diagnosis_class = '0'\n",
      "4. IF stupor = True ∧ attention_impairment = True THEN diagnosis_class = '0'\n",
      "5. IF unsteady_gait = True ∧ attention_impairment = True THEN diagnosis_class = '0'\n",
      "6. IF blurred_vision = False ∧ incoordination = True THEN diagnosis_class = '0'\n",
      "7. IF blurred_vision = False ∧ stupor = True THEN diagnosis_class = '0'\n",
      "8. IF blurred_vision = False ∧ unsteady_gait = True THEN diagnosis_class = '0'\n",
      "9. IF stupor = True ∧ depressed_reflexes = False THEN diagnosis_class = '0'\n",
      "10. IF unsteady_gait = True ∧ depressed_reflexes = False THEN diagnosis_class = '0'\n",
      "11. IF diplopia = False ∧ stupor = True THEN diagnosis_class = '0'\n",
      "12. IF diplopia = False ∧ unsteady_gait = True THEN diagnosis_class = '0'\n",
      "13. IF stupor = True ∧ dizziness = False THEN diagnosis_class = '0'\n",
      "14. IF unsteady_gait = True ∧ dizziness = False THEN diagnosis_class = '0'\n",
      "15. IF memory_impairment = True ∧ drowsiness = False THEN diagnosis_class = '0'\n",
      "16. IF stupor = True ∧ euphoria = False THEN diagnosis_class = '0'\n",
      "17. IF unsteady_gait = True ∧ euphoria = False THEN diagnosis_class = '0'\n",
      "18. IF memory_impairment = True ∧ incoordination = True THEN diagnosis_class = '0'\n",
      "19. IF tremors = False ∧ incoordination = True THEN diagnosis_class = '0'\n",
      "20. IF stupor = True ∧ lethargy = False THEN diagnosis_class = '0'\n",
      "21. IF unsteady_gait = True ∧ lethargy = False THEN diagnosis_class = '0'\n",
      "22. IF nystagmus = True ∧ memory_impairment = True THEN diagnosis_class = '0'\n",
      "23. IF memory_impairment = True ∧ stupor = True THEN diagnosis_class = '0'\n",
      "24. IF memory_impairment = True ∧ unsteady_gait = True THEN diagnosis_class = '0'\n",
      "25. IF stupor = True ∧ muscle_weakness = False THEN diagnosis_class = '0'\n",
      "26. IF unsteady_gait = True ∧ muscle_weakness = False THEN diagnosis_class = '0'\n",
      "27. IF psychomotor_retardation = False ∧ stupor = True THEN diagnosis_class = '0'\n",
      "28. IF psychomotor_retardation = False ∧ unsteady_gait = True THEN diagnosis_class = '0'\n",
      "29. IF stupor = True ∧ tremors = False THEN diagnosis_class = '0'\n",
      "30. IF unsteady_gait = True ∧ tremors = False THEN diagnosis_class = '0'\n",
      "31. IF autonomic_hyperactivity = True THEN diagnosis_class = '1'\n",
      "32. IF hallucinations = True THEN diagnosis_class = '1'\n",
      "33. IF hand_tremor = True THEN diagnosis_class = '1'\n",
      "34. IF diuresis = True THEN diagnosis_class = '2'\n",
      "35. IF excitement = True THEN diagnosis_class = '2'\n",
      "36. IF flushed_face = True THEN diagnosis_class = '2'\n",
      "37. IF gastrointestinal_disturbance = True THEN diagnosis_class = '2'\n",
      "38. IF muscle_twitching = True THEN diagnosis_class = '2'\n",
      "39. IF periodic_inexhaustibility = True THEN diagnosis_class = '2'\n",
      "40. IF rambling_speech = True THEN diagnosis_class = '2'\n",
      "41. IF rambling_thought = True THEN diagnosis_class = '2'\n",
      "42. IF headache = True THEN diagnosis_class = '3'\n",
      "43. IF muscle_pain = True THEN diagnosis_class = '3'\n",
      "44. IF conjunctival_injection = True THEN diagnosis_class = '4'\n",
      "45. IF aggression = True THEN diagnosis_class = '5'\n",
      "46. IF decreased_appetite = True THEN diagnosis_class = '5'\n",
      "47. IF analgesia = True THEN diagnosis_class = '6'\n",
      "48. IF ataxia = True THEN diagnosis_class = '6'\n",
      "49. IF dysarthia = True THEN diagnosis_class = '6'\n",
      "50. IF hyperacusis = True THEN diagnosis_class = '6'\n",
      "51. IF hypertension = True THEN diagnosis_class = '6'\n",
      "52. IF numbness = True THEN diagnosis_class = '6'\n",
      "53. IF palpitations = True THEN diagnosis_class = '7'\n",
      "54. IF depressed_reflexes = True THEN diagnosis_class = '8'\n",
      "55. IF diplopia = True THEN diagnosis_class = '8'\n",
      "56. IF dizziness = True THEN diagnosis_class = '8'\n",
      "57. IF euphoria = True THEN diagnosis_class = '8'\n",
      "58. IF lethargy = True THEN diagnosis_class = '8'\n",
      "59. IF frustration = True THEN diagnosis_class = '9'\n",
      "60. IF drowsiness = True ∧ attention_impairment = True THEN diagnosis_class = '10'\n",
      "61. IF incoordination = False ∧ attention_impairment = True THEN diagnosis_class = '10'\n",
      "62. IF nystagmus = False ∧ attention_impairment = True THEN diagnosis_class = '10'\n",
      "63. IF stupor = False ∧ attention_impairment = True THEN diagnosis_class = '10'\n",
      "64. IF unsteady_gait = False ∧ attention_impairment = True THEN diagnosis_class = '10'\n",
      "65. IF drowsiness = True ∧ coma = True THEN diagnosis_class = '10'\n",
      "66. IF depressed_mood = False ∧ drowsiness = True THEN diagnosis_class = '10'\n",
      "67. IF drowsiness = True ∧ difficulty_concentrating = False THEN diagnosis_class = '10'\n",
      "68. IF drowsiness = True ∧ dysphoric_mood = False THEN diagnosis_class = '10'\n",
      "69. IF fatigue = False ∧ drowsiness = True THEN diagnosis_class = '10'\n",
      "70. IF headache = False ∧ drowsiness = True THEN diagnosis_class = '10'\n",
      "71. IF memory_impairment = True ∧ drowsiness = True THEN diagnosis_class = '10'\n",
      "72. IF drowsiness = True ∧ muscle_pain = False THEN diagnosis_class = '10'\n",
      "73. IF muscle_stiffness = False ∧ drowsiness = True THEN diagnosis_class = '10'\n",
      "74. IF nausea = False ∧ drowsiness = True THEN diagnosis_class = '10'\n",
      "75. IF slurred_speech = True ∧ drowsiness = True THEN diagnosis_class = '10'\n",
      "76. IF vomiting = False ∧ drowsiness = True THEN diagnosis_class = '10'\n",
      "77. IF memory_impairment = True ∧ incoordination = False THEN diagnosis_class = '10'\n",
      "78. IF slurred_speech = True ∧ incoordination = False THEN diagnosis_class = '10'\n",
      "79. IF nystagmus = False ∧ memory_impairment = True THEN diagnosis_class = '10'\n",
      "80. IF memory_impairment = True ∧ stupor = False THEN diagnosis_class = '10'\n",
      "81. IF memory_impairment = True ∧ unsteady_gait = False THEN diagnosis_class = '10'\n",
      "82. IF nystagmus = False ∧ slurred_speech = True THEN diagnosis_class = '10'\n",
      "83. IF slurred_speech = True ∧ stupor = False THEN diagnosis_class = '10'\n",
      "84. IF slurred_speech = True ∧ unsteady_gait = False THEN diagnosis_class = '10'\n",
      "85. IF diarrhea = True THEN diagnosis_class = '11'\n",
      "86. IF fever = True THEN diagnosis_class = '11'\n",
      "87. IF lacrimation = True THEN diagnosis_class = '11'\n",
      "88. IF muscle_aches = True THEN diagnosis_class = '11'\n",
      "89. IF piloerection = True THEN diagnosis_class = '11'\n",
      "90. IF rhinorrhea = True THEN diagnosis_class = '11'\n",
      "91. IF yawning = True THEN diagnosis_class = '11'\n",
      "92. IF bradycardia = True THEN diagnosis_class = '12'\n",
      "93. IF cardiac_arrhythmias = True THEN diagnosis_class = '12'\n",
      "94. IF chest_pain = True THEN diagnosis_class = '12'\n",
      "95. IF chills = True THEN diagnosis_class = '12'\n",
      "96. IF confusion = True THEN diagnosis_class = '12'\n",
      "97. IF dyskinesias = True THEN diagnosis_class = '12'\n",
      "98. IF dystonias = True THEN diagnosis_class = '12'\n",
      "99. IF elevated_blood_pressure = True THEN diagnosis_class = '12'\n",
      "100. IF lowered_blood_pressure = True THEN diagnosis_class = '12'\n",
      "101. IF perspiration = True THEN diagnosis_class = '12'\n",
      "102. IF respiratory_depression = True THEN diagnosis_class = '12'\n",
      "103. IF hypersomnia = True THEN diagnosis_class = '13'\n"
     ]
    }
   ],
   "source": [
    "for idx, rule in enumerate(rule_set.rules, 1):\n",
    "    print(f\"{idx}. {rule}\")"
   ]
  },
  {
   "cell_type": "code",
   "execution_count": null,
   "id": "eda8348b",
   "metadata": {},
   "outputs": [
    {
     "data": {
      "text/plain": [
       "[array([ 3, 10,  8]),\n",
       " array([12,  7,  8]),\n",
       " array([ 9,  8, 11]),\n",
       " array([ 3, 10]),\n",
       " array([9, 0, 1]),\n",
       " array([9]),\n",
       " array([3, 8]),\n",
       " array([12]),\n",
       " array([7]),\n",
       " array([2]),\n",
       " array([1]),\n",
       " array([7]),\n",
       " array([1, 3]),\n",
       " array([8])]"
      ]
     },
     "execution_count": 37,
     "metadata": {},
     "output_type": "execute_result"
    }
   ],
   "source": [
    "new_diagnosis_col = [np.random.choice(range(0,13), size=np.random.choice(range(1,5), p=[4/9, 3/9, 2/9, 0/9]), replace=False) for _ in range(14)]\n",
    "new_diagnosis_col"
   ]
  },
  {
   "cell_type": "code",
   "execution_count": null,
   "id": "b75d3cd0",
   "metadata": {},
   "outputs": [],
   "source": []
  }
 ],
 "metadata": {
  "kernelspec": {
   "display_name": "base",
   "language": "python",
   "name": "python3"
  },
  "language_info": {
   "codemirror_mode": {
    "name": "ipython",
    "version": 3
   },
   "file_extension": ".py",
   "mimetype": "text/x-python",
   "name": "python",
   "nbconvert_exporter": "python",
   "pygments_lexer": "ipython3",
   "version": "3.13.2"
  }
 },
 "nbformat": 4,
 "nbformat_minor": 5
}
